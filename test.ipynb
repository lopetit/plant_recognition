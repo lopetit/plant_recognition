{
 "cells": [
  {
   "cell_type": "code",
   "execution_count": 1,
   "metadata": {},
   "outputs": [
    {
     "name": "stderr",
     "output_type": "stream",
     "text": [
      "/home/yanisf/.pyenv/versions/3.9.8/envs/deep-learning-3.9.8/lib/python3.9/site-packages/tqdm/auto.py:21: TqdmWarning: IProgress not found. Please update jupyter and ipywidgets. See https://ipywidgets.readthedocs.io/en/stable/user_install.html\n",
      "  from .autonotebook import tqdm as notebook_tqdm\n"
     ]
    }
   ],
   "source": [
    "import sys\n",
    "import os\n",
    "sys.path.append(os.path.join(os.getcwd(), 'thirdparty/pybioclip/src/'))\n",
    "\n",
    "import torch\n",
    "from bioclip.predict import CustomLabelsClassifier\n",
    "\n",
    "device = torch.device(\"cuda\" if torch.cuda.is_available() else \"cpu\")\n",
    "\n",
    "classifier = CustomLabelsClassifier(device=device)"
   ]
  },
  {
   "cell_type": "code",
   "execution_count": 2,
   "metadata": {},
   "outputs": [
    {
     "name": "stdout",
     "output_type": "stream",
     "text": [
      "Plantae Angiosperms Eudicots Asterales Asteraceae Arnica griscomii (Snow Arnica) 0.5548859238624573\n",
      "Plantae Angiosperms Eudicots Brassicales Brassicaceae Boechera quebecensis (Rockcress) 0.416781485080719\n",
      "Plantae Angiosperms Eudicots Brassicales Brassicaceae Draba pycnosperma (Whitlow-grass) 0.013796851970255375\n",
      "Plantae Angiosperms Eudicots Asterales Asteraceae Erigeron compositus (Fleabane) 0.014535758644342422\n"
     ]
    }
   ],
   "source": [
    "predictions = classifier.predict(\"./test_images/Arnica_2.png\", [\n",
    "    \"Plantae Angiosperms Eudicots Asterales Asteraceae Arnica griscomii (Snow Arnica)\",\n",
    "    \"Plantae Angiosperms Eudicots Brassicales Brassicaceae Boechera quebecensis (Rockcress)\",\n",
    "    \"Plantae Angiosperms Eudicots Brassicales Brassicaceae Draba pycnosperma (Whitlow-grass)\",\n",
    "    \"Plantae Angiosperms Eudicots Asterales Asteraceae Erigeron compositus (Fleabane)\"\n",
    "])\n",
    "for prediction in predictions:\n",
    "   print(prediction[\"classification\"], prediction[\"score\"])"
   ]
  }
 ],
 "metadata": {
  "kernelspec": {
   "display_name": "deep-learning-3.9.8",
   "language": "python",
   "name": "python3"
  },
  "language_info": {
   "codemirror_mode": {
    "name": "ipython",
    "version": 3
   },
   "file_extension": ".py",
   "mimetype": "text/x-python",
   "name": "python",
   "nbconvert_exporter": "python",
   "pygments_lexer": "ipython3",
   "version": "3.9.8"
  }
 },
 "nbformat": 4,
 "nbformat_minor": 2
}
